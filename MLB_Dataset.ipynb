{
 "cells": [
  {
   "cell_type": "markdown",
   "id": "75b631a2",
   "metadata": {},
   "source": [
    "# Python Team Project: Predicting Major League Basesball Game Outcomes"
   ]
  },
  {
   "cell_type": "markdown",
   "id": "5f2e44ab",
   "metadata": {},
   "source": [
    "## Part 1: Data Wrangling"
   ]
  },
  {
   "cell_type": "code",
   "execution_count": 4,
   "id": "a2db4501",
   "metadata": {},
   "outputs": [],
   "source": [
    "# packages\n",
    "\n",
    "import pandas as pd\n",
    "import sqlalchemy as db\n",
    "import numpy as np\n",
    "import matplotlib.pyplot as plt\n",
    "%matplotlib inline\n",
    "import seaborn as sns\n",
    "from datetime import datetime\n",
    "\n",
    "from sklearn import metrics\n",
    "from sklearn.ensemble import RandomForestRegressor\n",
    "from sklearn.metrics import mean_squared_error, r2_score\n",
    "from sklearn.model_selection import train_test_split\n",
    "from sklearn.model_selection import RandomizedSearchCV \n",
    "from sklearn.linear_model import LinearRegression\n",
    "import datetime as dt"
   ]
  },
  {
   "cell_type": "code",
   "execution_count": 5,
   "id": "c25cc092",
   "metadata": {},
   "outputs": [],
   "source": [
    "df_mlb = pd.read_csv('mlb_data.csv')"
   ]
  },
  {
   "cell_type": "code",
   "execution_count": 6,
   "id": "f2135cea",
   "metadata": {},
   "outputs": [
    {
     "data": {
      "text/html": [
       "<div>\n",
       "<style scoped>\n",
       "    .dataframe tbody tr th:only-of-type {\n",
       "        vertical-align: middle;\n",
       "    }\n",
       "\n",
       "    .dataframe tbody tr th {\n",
       "        vertical-align: top;\n",
       "    }\n",
       "\n",
       "    .dataframe thead th {\n",
       "        text-align: right;\n",
       "    }\n",
       "</style>\n",
       "<table border=\"1\" class=\"dataframe\">\n",
       "  <thead>\n",
       "    <tr style=\"text-align: right;\">\n",
       "      <th></th>\n",
       "      <th>date</th>\n",
       "      <th>season</th>\n",
       "      <th>neutral</th>\n",
       "      <th>playoff</th>\n",
       "      <th>team1</th>\n",
       "      <th>team2</th>\n",
       "      <th>elo1_pre</th>\n",
       "      <th>elo2_pre</th>\n",
       "      <th>elo_prob1</th>\n",
       "      <th>elo_prob2</th>\n",
       "      <th>...</th>\n",
       "      <th>pitcher1_rgs</th>\n",
       "      <th>pitcher2_rgs</th>\n",
       "      <th>pitcher1_adj</th>\n",
       "      <th>pitcher2_adj</th>\n",
       "      <th>rating_prob1</th>\n",
       "      <th>rating_prob2</th>\n",
       "      <th>rating1_post</th>\n",
       "      <th>rating2_post</th>\n",
       "      <th>score1</th>\n",
       "      <th>score2</th>\n",
       "    </tr>\n",
       "  </thead>\n",
       "  <tbody>\n",
       "    <tr>\n",
       "      <th>0</th>\n",
       "      <td>10/27/2020</td>\n",
       "      <td>2020</td>\n",
       "      <td>1</td>\n",
       "      <td>w</td>\n",
       "      <td>LAD</td>\n",
       "      <td>TBD</td>\n",
       "      <td>1607.757915</td>\n",
       "      <td>1564.177984</td>\n",
       "      <td>0.582851</td>\n",
       "      <td>0.417149</td>\n",
       "      <td>...</td>\n",
       "      <td>54.055790</td>\n",
       "      <td>54.534448</td>\n",
       "      <td>7.995742</td>\n",
       "      <td>6.040024</td>\n",
       "      <td>0.594547</td>\n",
       "      <td>0.405453</td>\n",
       "      <td>1612.374351</td>\n",
       "      <td>1561.153482</td>\n",
       "      <td>3</td>\n",
       "      <td>1</td>\n",
       "    </tr>\n",
       "    <tr>\n",
       "      <th>1</th>\n",
       "      <td>10/25/2020</td>\n",
       "      <td>2020</td>\n",
       "      <td>1</td>\n",
       "      <td>w</td>\n",
       "      <td>TBD</td>\n",
       "      <td>LAD</td>\n",
       "      <td>1566.449752</td>\n",
       "      <td>1605.486147</td>\n",
       "      <td>0.425652</td>\n",
       "      <td>0.574348</td>\n",
       "      <td>...</td>\n",
       "      <td>52.966933</td>\n",
       "      <td>57.214954</td>\n",
       "      <td>-1.826734</td>\n",
       "      <td>23.114096</td>\n",
       "      <td>0.368716</td>\n",
       "      <td>0.631284</td>\n",
       "      <td>1562.804875</td>\n",
       "      <td>1610.722958</td>\n",
       "      <td>2</td>\n",
       "      <td>4</td>\n",
       "    </tr>\n",
       "    <tr>\n",
       "      <th>2</th>\n",
       "      <td>10/24/2020</td>\n",
       "      <td>2020</td>\n",
       "      <td>1</td>\n",
       "      <td>w</td>\n",
       "      <td>TBD</td>\n",
       "      <td>LAD</td>\n",
       "      <td>1563.862158</td>\n",
       "      <td>1608.073741</td>\n",
       "      <td>0.415971</td>\n",
       "      <td>0.584029</td>\n",
       "      <td>...</td>\n",
       "      <td>52.636552</td>\n",
       "      <td>50.974099</td>\n",
       "      <td>-3.959517</td>\n",
       "      <td>-6.204884</td>\n",
       "      <td>0.411161</td>\n",
       "      <td>0.588839</td>\n",
       "      <td>1564.204361</td>\n",
       "      <td>1609.323472</td>\n",
       "      <td>8</td>\n",
       "      <td>7</td>\n",
       "    </tr>\n",
       "    <tr>\n",
       "      <th>3</th>\n",
       "      <td>10/23/2020</td>\n",
       "      <td>2020</td>\n",
       "      <td>1</td>\n",
       "      <td>w</td>\n",
       "      <td>TBD</td>\n",
       "      <td>LAD</td>\n",
       "      <td>1567.099442</td>\n",
       "      <td>1604.836456</td>\n",
       "      <td>0.428091</td>\n",
       "      <td>0.571909</td>\n",
       "      <td>...</td>\n",
       "      <td>57.971157</td>\n",
       "      <td>55.937980</td>\n",
       "      <td>20.546588</td>\n",
       "      <td>18.098422</td>\n",
       "      <td>0.420376</td>\n",
       "      <td>0.579624</td>\n",
       "      <td>1562.243577</td>\n",
       "      <td>1611.284256</td>\n",
       "      <td>2</td>\n",
       "      <td>6</td>\n",
       "    </tr>\n",
       "    <tr>\n",
       "      <th>4</th>\n",
       "      <td>10/21/2020</td>\n",
       "      <td>2020</td>\n",
       "      <td>1</td>\n",
       "      <td>w</td>\n",
       "      <td>LAD</td>\n",
       "      <td>TBD</td>\n",
       "      <td>1608.352409</td>\n",
       "      <td>1563.583490</td>\n",
       "      <td>0.585068</td>\n",
       "      <td>0.414932</td>\n",
       "      <td>...</td>\n",
       "      <td>54.975487</td>\n",
       "      <td>54.421564</td>\n",
       "      <td>13.013222</td>\n",
       "      <td>4.009710</td>\n",
       "      <td>0.611092</td>\n",
       "      <td>0.388908</td>\n",
       "      <td>1608.914363</td>\n",
       "      <td>1564.613470</td>\n",
       "      <td>4</td>\n",
       "      <td>6</td>\n",
       "    </tr>\n",
       "  </tbody>\n",
       "</table>\n",
       "<p>5 rows × 26 columns</p>\n",
       "</div>"
      ],
      "text/plain": [
       "         date  season  neutral playoff team1 team2     elo1_pre     elo2_pre  \\\n",
       "0  10/27/2020    2020        1       w   LAD   TBD  1607.757915  1564.177984   \n",
       "1  10/25/2020    2020        1       w   TBD   LAD  1566.449752  1605.486147   \n",
       "2  10/24/2020    2020        1       w   TBD   LAD  1563.862158  1608.073741   \n",
       "3  10/23/2020    2020        1       w   TBD   LAD  1567.099442  1604.836456   \n",
       "4  10/21/2020    2020        1       w   LAD   TBD  1608.352409  1563.583490   \n",
       "\n",
       "   elo_prob1  elo_prob2  ...  pitcher1_rgs  pitcher2_rgs  pitcher1_adj  \\\n",
       "0   0.582851   0.417149  ...     54.055790     54.534448      7.995742   \n",
       "1   0.425652   0.574348  ...     52.966933     57.214954     -1.826734   \n",
       "2   0.415971   0.584029  ...     52.636552     50.974099     -3.959517   \n",
       "3   0.428091   0.571909  ...     57.971157     55.937980     20.546588   \n",
       "4   0.585068   0.414932  ...     54.975487     54.421564     13.013222   \n",
       "\n",
       "   pitcher2_adj rating_prob1 rating_prob2  rating1_post  rating2_post  score1  \\\n",
       "0      6.040024     0.594547     0.405453   1612.374351   1561.153482       3   \n",
       "1     23.114096     0.368716     0.631284   1562.804875   1610.722958       2   \n",
       "2     -6.204884     0.411161     0.588839   1564.204361   1609.323472       8   \n",
       "3     18.098422     0.420376     0.579624   1562.243577   1611.284256       2   \n",
       "4      4.009710     0.611092     0.388908   1608.914363   1564.613470       4   \n",
       "\n",
       "   score2  \n",
       "0       1  \n",
       "1       4  \n",
       "2       7  \n",
       "3       6  \n",
       "4       6  \n",
       "\n",
       "[5 rows x 26 columns]"
      ]
     },
     "execution_count": 6,
     "metadata": {},
     "output_type": "execute_result"
    }
   ],
   "source": [
    "df_mlb.head()"
   ]
  },
  {
   "cell_type": "code",
   "execution_count": 7,
   "id": "7ea4d9e3",
   "metadata": {},
   "outputs": [],
   "source": [
    "df_mlb.drop(columns=['rating1_pre', 'rating2_pre', 'pitcher2', 'pitcher1_rgs', 'pitcher2_rgs', \n",
    "                     'pitcher2_adj', 'rating_prob2', 'rating2_post'], inplace=True)"
   ]
  },
  {
   "cell_type": "code",
   "execution_count": 8,
   "id": "3ce1df55",
   "metadata": {},
   "outputs": [
    {
     "name": "stdout",
     "output_type": "stream",
     "text": [
      "<class 'pandas.core.frame.DataFrame'>\n",
      "RangeIndex: 50217 entries, 0 to 50216\n",
      "Data columns (total 18 columns):\n",
      " #   Column        Non-Null Count  Dtype  \n",
      "---  ------        --------------  -----  \n",
      " 0   date          50217 non-null  object \n",
      " 1   season        50217 non-null  int64  \n",
      " 2   neutral       50217 non-null  int64  \n",
      " 3   playoff       731 non-null    object \n",
      " 4   team1         50217 non-null  object \n",
      " 5   team2         50217 non-null  object \n",
      " 6   elo1_pre      50217 non-null  float64\n",
      " 7   elo2_pre      50217 non-null  float64\n",
      " 8   elo_prob1     50217 non-null  float64\n",
      " 9   elo_prob2     50217 non-null  float64\n",
      " 10  elo1_post     50217 non-null  float64\n",
      " 11  elo2_post     50217 non-null  float64\n",
      " 12  pitcher1      50217 non-null  object \n",
      " 13  pitcher1_adj  50214 non-null  float64\n",
      " 14  rating_prob1  50217 non-null  float64\n",
      " 15  rating1_post  50217 non-null  float64\n",
      " 16  score1        50217 non-null  int64  \n",
      " 17  score2        50217 non-null  int64  \n",
      "dtypes: float64(9), int64(4), object(5)\n",
      "memory usage: 6.9+ MB\n"
     ]
    }
   ],
   "source": [
    "df_mlb.info()"
   ]
  },
  {
   "cell_type": "code",
   "execution_count": 9,
   "id": "a0486de3",
   "metadata": {},
   "outputs": [],
   "source": [
    "# exclude the 2020 season to eliminate pandemic-related abnormalities\n",
    "df_mlb = df_mlb[df_mlb.season != 2020]"
   ]
  },
  {
   "cell_type": "code",
   "execution_count": 10,
   "id": "1bbba962",
   "metadata": {},
   "outputs": [
    {
     "name": "stdout",
     "output_type": "stream",
     "text": [
      "<class 'pandas.core.frame.DataFrame'>\n",
      "Int64Index: 49266 entries, 951 to 50216\n",
      "Data columns (total 18 columns):\n",
      " #   Column        Non-Null Count  Dtype  \n",
      "---  ------        --------------  -----  \n",
      " 0   date          49266 non-null  object \n",
      " 1   season        49266 non-null  int64  \n",
      " 2   neutral       49266 non-null  int64  \n",
      " 3   playoff       678 non-null    object \n",
      " 4   team1         49266 non-null  object \n",
      " 5   team2         49266 non-null  object \n",
      " 6   elo1_pre      49266 non-null  float64\n",
      " 7   elo2_pre      49266 non-null  float64\n",
      " 8   elo_prob1     49266 non-null  float64\n",
      " 9   elo_prob2     49266 non-null  float64\n",
      " 10  elo1_post     49266 non-null  float64\n",
      " 11  elo2_post     49266 non-null  float64\n",
      " 12  pitcher1      49266 non-null  object \n",
      " 13  pitcher1_adj  49263 non-null  float64\n",
      " 14  rating_prob1  49266 non-null  float64\n",
      " 15  rating1_post  49266 non-null  float64\n",
      " 16  score1        49266 non-null  int64  \n",
      " 17  score2        49266 non-null  int64  \n",
      "dtypes: float64(9), int64(4), object(5)\n",
      "memory usage: 7.1+ MB\n"
     ]
    }
   ],
   "source": [
    "df_mlb.info()"
   ]
  },
  {
   "cell_type": "code",
   "execution_count": 11,
   "id": "f23faad7",
   "metadata": {},
   "outputs": [],
   "source": [
    "# fill in missing values in teh pitcher1_adj column with the mean\n",
    "df_mlb = df_mlb.fillna(df_mlb.mean())"
   ]
  },
  {
   "cell_type": "code",
   "execution_count": 12,
   "id": "f4cc4574",
   "metadata": {},
   "outputs": [],
   "source": [
    "# drop records that are a playoff game\n",
    "df_mlb = df_mlb[df_mlb.playoff.str.contains('NaN',case=False,na=True)]"
   ]
  },
  {
   "cell_type": "code",
   "execution_count": 13,
   "id": "b3116d8c",
   "metadata": {},
   "outputs": [],
   "source": [
    "# drop records where the location is neutral (where 'neutral' = 0)\n",
    "df_mlb = df_mlb[df_mlb.neutral == 0]"
   ]
  },
  {
   "cell_type": "code",
   "execution_count": 14,
   "id": "466f9bb6",
   "metadata": {},
   "outputs": [
    {
     "name": "stdout",
     "output_type": "stream",
     "text": [
      "<class 'pandas.core.frame.DataFrame'>\n",
      "Int64Index: 48557 entries, 988 to 50216\n",
      "Data columns (total 18 columns):\n",
      " #   Column        Non-Null Count  Dtype  \n",
      "---  ------        --------------  -----  \n",
      " 0   date          48557 non-null  object \n",
      " 1   season        48557 non-null  int64  \n",
      " 2   neutral       48557 non-null  int64  \n",
      " 3   playoff       0 non-null      object \n",
      " 4   team1         48557 non-null  object \n",
      " 5   team2         48557 non-null  object \n",
      " 6   elo1_pre      48557 non-null  float64\n",
      " 7   elo2_pre      48557 non-null  float64\n",
      " 8   elo_prob1     48557 non-null  float64\n",
      " 9   elo_prob2     48557 non-null  float64\n",
      " 10  elo1_post     48557 non-null  float64\n",
      " 11  elo2_post     48557 non-null  float64\n",
      " 12  pitcher1      48557 non-null  object \n",
      " 13  pitcher1_adj  48557 non-null  float64\n",
      " 14  rating_prob1  48557 non-null  float64\n",
      " 15  rating1_post  48557 non-null  float64\n",
      " 16  score1        48557 non-null  int64  \n",
      " 17  score2        48557 non-null  int64  \n",
      "dtypes: float64(9), int64(4), object(5)\n",
      "memory usage: 7.0+ MB\n"
     ]
    }
   ],
   "source": [
    "# verify that all values in the playoff column are null, and check that all other columns are complete\n",
    "df_mlb.info(0)"
   ]
  },
  {
   "cell_type": "code",
   "execution_count": 15,
   "id": "339ed6af",
   "metadata": {},
   "outputs": [],
   "source": [
    "# drop the 'playoff' and 'neutral' columns (since they are all the same, and won't play a role in our analysis)\n",
    "df_mlb.drop(columns=['neutral', 'playoff'], inplace=True)"
   ]
  },
  {
   "cell_type": "code",
   "execution_count": 16,
   "id": "e3869658",
   "metadata": {},
   "outputs": [],
   "source": [
    "# create column to classify the game by team 1 winning or losing. 1 denotes a home win.\n",
    "df_mlb['Home Win'] = np.where(df_mlb['score1'] > df_mlb['score2'], 1, 0)"
   ]
  },
  {
   "cell_type": "code",
   "execution_count": 17,
   "id": "c22d8498",
   "metadata": {},
   "outputs": [
    {
     "data": {
      "text/html": [
       "<div>\n",
       "<style scoped>\n",
       "    .dataframe tbody tr th:only-of-type {\n",
       "        vertical-align: middle;\n",
       "    }\n",
       "\n",
       "    .dataframe tbody tr th {\n",
       "        vertical-align: top;\n",
       "    }\n",
       "\n",
       "    .dataframe thead th {\n",
       "        text-align: right;\n",
       "    }\n",
       "</style>\n",
       "<table border=\"1\" class=\"dataframe\">\n",
       "  <thead>\n",
       "    <tr style=\"text-align: right;\">\n",
       "      <th></th>\n",
       "      <th>Date</th>\n",
       "      <th>Season</th>\n",
       "      <th>Home Team</th>\n",
       "      <th>Away Team</th>\n",
       "      <th>Home Pre Elo</th>\n",
       "      <th>Away Pre Elo</th>\n",
       "      <th>Home %</th>\n",
       "      <th>Away %</th>\n",
       "      <th>Home Post Elo</th>\n",
       "      <th>Away Post Elo</th>\n",
       "      <th>Starting Pitcher</th>\n",
       "      <th>Starting Pitcher ADJ</th>\n",
       "      <th>Starting Pitcher Win %</th>\n",
       "      <th>Starting Pitcher Rating</th>\n",
       "      <th>Home Score</th>\n",
       "      <th>Away Score</th>\n",
       "      <th>Home Win</th>\n",
       "    </tr>\n",
       "  </thead>\n",
       "  <tbody>\n",
       "    <tr>\n",
       "      <th>988</th>\n",
       "      <td>9/29/2019</td>\n",
       "      <td>2019</td>\n",
       "      <td>STL</td>\n",
       "      <td>CHC</td>\n",
       "      <td>1545.306947</td>\n",
       "      <td>1531.092895</td>\n",
       "      <td>0.554774</td>\n",
       "      <td>0.445226</td>\n",
       "      <td>1548.950901</td>\n",
       "      <td>1527.448942</td>\n",
       "      <td>Jack Flaherty</td>\n",
       "      <td>45.053652</td>\n",
       "      <td>0.644813</td>\n",
       "      <td>1545.776596</td>\n",
       "      <td>9</td>\n",
       "      <td>0</td>\n",
       "      <td>1</td>\n",
       "    </tr>\n",
       "    <tr>\n",
       "      <th>989</th>\n",
       "      <td>9/29/2019</td>\n",
       "      <td>2019</td>\n",
       "      <td>KCR</td>\n",
       "      <td>MIN</td>\n",
       "      <td>1429.995452</td>\n",
       "      <td>1549.426829</td>\n",
       "      <td>0.366016</td>\n",
       "      <td>0.633984</td>\n",
       "      <td>1431.835083</td>\n",
       "      <td>1547.587197</td>\n",
       "      <td>Jorge Lopez</td>\n",
       "      <td>-18.509968</td>\n",
       "      <td>0.384372</td>\n",
       "      <td>1430.506140</td>\n",
       "      <td>5</td>\n",
       "      <td>4</td>\n",
       "      <td>1</td>\n",
       "    </tr>\n",
       "    <tr>\n",
       "      <th>990</th>\n",
       "      <td>9/29/2019</td>\n",
       "      <td>2019</td>\n",
       "      <td>SEA</td>\n",
       "      <td>OAK</td>\n",
       "      <td>1467.732500</td>\n",
       "      <td>1577.147150</td>\n",
       "      <td>0.379496</td>\n",
       "      <td>0.620504</td>\n",
       "      <td>1470.179263</td>\n",
       "      <td>1574.700387</td>\n",
       "      <td>Justin Dunn</td>\n",
       "      <td>5.136325</td>\n",
       "      <td>0.418133</td>\n",
       "      <td>1465.818655</td>\n",
       "      <td>3</td>\n",
       "      <td>1</td>\n",
       "      <td>1</td>\n",
       "    </tr>\n",
       "    <tr>\n",
       "      <th>991</th>\n",
       "      <td>9/29/2019</td>\n",
       "      <td>2019</td>\n",
       "      <td>NYM</td>\n",
       "      <td>ATL</td>\n",
       "      <td>1528.343228</td>\n",
       "      <td>1548.881950</td>\n",
       "      <td>0.504981</td>\n",
       "      <td>0.495019</td>\n",
       "      <td>1529.727245</td>\n",
       "      <td>1547.497933</td>\n",
       "      <td>Noah Syndergaard</td>\n",
       "      <td>-6.560683</td>\n",
       "      <td>0.474830</td>\n",
       "      <td>1533.426584</td>\n",
       "      <td>7</td>\n",
       "      <td>6</td>\n",
       "      <td>1</td>\n",
       "    </tr>\n",
       "    <tr>\n",
       "      <th>992</th>\n",
       "      <td>9/29/2019</td>\n",
       "      <td>2019</td>\n",
       "      <td>COL</td>\n",
       "      <td>MIL</td>\n",
       "      <td>1469.463417</td>\n",
       "      <td>1534.015807</td>\n",
       "      <td>0.441904</td>\n",
       "      <td>0.558096</td>\n",
       "      <td>1471.027665</td>\n",
       "      <td>1532.451559</td>\n",
       "      <td>Jeff Hoffman</td>\n",
       "      <td>-12.012266</td>\n",
       "      <td>0.448627</td>\n",
       "      <td>1482.362549</td>\n",
       "      <td>4</td>\n",
       "      <td>3</td>\n",
       "      <td>1</td>\n",
       "    </tr>\n",
       "  </tbody>\n",
       "</table>\n",
       "</div>"
      ],
      "text/plain": [
       "          Date  Season Home Team Away Team  Home Pre Elo  Away Pre Elo  \\\n",
       "988  9/29/2019    2019       STL       CHC   1545.306947   1531.092895   \n",
       "989  9/29/2019    2019       KCR       MIN   1429.995452   1549.426829   \n",
       "990  9/29/2019    2019       SEA       OAK   1467.732500   1577.147150   \n",
       "991  9/29/2019    2019       NYM       ATL   1528.343228   1548.881950   \n",
       "992  9/29/2019    2019       COL       MIL   1469.463417   1534.015807   \n",
       "\n",
       "       Home %    Away %  Home Post Elo  Away Post Elo  Starting Pitcher  \\\n",
       "988  0.554774  0.445226    1548.950901    1527.448942     Jack Flaherty   \n",
       "989  0.366016  0.633984    1431.835083    1547.587197       Jorge Lopez   \n",
       "990  0.379496  0.620504    1470.179263    1574.700387       Justin Dunn   \n",
       "991  0.504981  0.495019    1529.727245    1547.497933  Noah Syndergaard   \n",
       "992  0.441904  0.558096    1471.027665    1532.451559      Jeff Hoffman   \n",
       "\n",
       "     Starting Pitcher ADJ  Starting Pitcher Win %  Starting Pitcher Rating  \\\n",
       "988             45.053652                0.644813              1545.776596   \n",
       "989            -18.509968                0.384372              1430.506140   \n",
       "990              5.136325                0.418133              1465.818655   \n",
       "991             -6.560683                0.474830              1533.426584   \n",
       "992            -12.012266                0.448627              1482.362549   \n",
       "\n",
       "     Home Score  Away Score  Home Win  \n",
       "988           9           0         1  \n",
       "989           5           4         1  \n",
       "990           3           1         1  \n",
       "991           7           6         1  \n",
       "992           4           3         1  "
      ]
     },
     "execution_count": 17,
     "metadata": {},
     "output_type": "execute_result"
    }
   ],
   "source": [
    "# rename columns to be more readable\n",
    "df_mlb.rename(columns={'date':'Date', 'season':'Season', \n",
    "                         'team1':'Home Team', 'team2':'Away Team',\n",
    "                         'elo1_pre':'Home Pre Elo','elo2_pre':'Away Pre Elo',\n",
    "                         'elo_prob1':'Home %','elo_prob2':'Away %','elo1_post':'Home Post Elo',\n",
    "                         'elo2_post':'Away Post Elo','pitcher1':'Starting Pitcher',\n",
    "                         'pitcher1_adj':'Starting Pitcher ADJ','rating_prob1':'Starting Pitcher Win %',\n",
    "                          'rating1_post':'Starting Pitcher Rating', 'score1':'Home Score','score2':'Away Score'}, \n",
    "                     inplace=True)\n",
    "df_mlb.head()"
   ]
  },
  {
   "cell_type": "code",
   "execution_count": null,
   "id": "c3ce22bb",
   "metadata": {},
   "outputs": [],
   "source": []
  },
  {
   "cell_type": "markdown",
   "id": "18d2f05c",
   "metadata": {},
   "source": [
    "## Part 2: Data Visualization"
   ]
  },
  {
   "cell_type": "code",
   "execution_count": 18,
   "id": "4a1ff633",
   "metadata": {},
   "outputs": [
    {
     "data": {
      "image/png": "[encoded data removed]",
      "text/plain": [
       "<Figure size 864x576 with 1 Axes>"
      ]
     },
     "metadata": {
      "needs_background": "light"
     },
     "output_type": "display_data"
    }
   ],
   "source": [
    "sns.countplot(x='Home Team', hue='Home Win', data=df_mlb)\n",
    "plt.xticks(rotation=75, fontweight='light')\n",
    "fig = plt.gcf()\n",
    "fig.set_size_inches(12, 8)\n",
    "plt.show()\n",
    "\n",
    "# The orange bars show the count of wins for each team"
   ]
  },
  {
   "cell_type": "code",
   "execution_count": 19,
   "id": "4c879167",
   "metadata": {},
   "outputs": [
    {
     "data": {
      "text/plain": [
       "Home Team  Home Win\n",
       "ANA        1           0.563928\n",
       "           0           0.436072\n",
       "ARI        1           0.525958\n",
       "           0           0.474042\n",
       "ATL        1           0.567634\n",
       "           0           0.432366\n",
       "BAL        0           0.511743\n",
       "           1           0.488257\n",
       "BOS        1           0.582818\n",
       "           0           0.417182\n",
       "CHC        1           0.537037\n",
       "           0           0.462963\n",
       "CHW        1           0.532716\n",
       "           0           0.467284\n",
       "CIN        1           0.500617\n",
       "           0           0.499383\n",
       "CLE        1           0.549165\n",
       "           0           0.450835\n",
       "COL        1           0.543492\n",
       "           0           0.456508\n",
       "DET        1           0.506799\n",
       "           0           0.493201\n",
       "FLA        1           0.508055\n",
       "           0           0.491945\n",
       "HOU        1           0.541460\n",
       "           0           0.458540\n",
       "KCR        0           0.526902\n",
       "           1           0.473098\n",
       "LAD        1           0.587292\n",
       "           0           0.412708\n",
       "MIL        1           0.527160\n",
       "           0           0.472840\n",
       "MIN        1           0.537986\n",
       "           0           0.462014\n",
       "NYM        1           0.520074\n",
       "           0           0.479926\n",
       "NYY        1           0.625464\n",
       "           0           0.374536\n",
       "OAK        1           0.578589\n",
       "           0           0.421411\n",
       "PHI        1           0.537701\n",
       "           0           0.462299\n",
       "PIT        1           0.507426\n",
       "           0           0.492574\n",
       "SDP        0           0.500309\n",
       "           1           0.499691\n",
       "SEA        1           0.520345\n",
       "           0           0.479655\n",
       "SFG        1           0.556447\n",
       "           0           0.443553\n",
       "STL        1           0.600617\n",
       "           0           0.399383\n",
       "TBD        1           0.528173\n",
       "           0           0.471827\n",
       "TEX        1           0.545623\n",
       "           0           0.454377\n",
       "TOR        1           0.537940\n",
       "           0           0.462060\n",
       "WSN        1           0.533704\n",
       "           0           0.466296\n",
       "Name: Home Win, dtype: float64"
      ]
     },
     "execution_count": 19,
     "metadata": {},
     "output_type": "execute_result"
    }
   ],
   "source": [
    "# sort by team, and calculate the percentage of 'Home Win' = '1'\n",
    "df_mlb.groupby('Home Team')['Home Win'].value_counts(1)"
   ]
  },
  {
   "cell_type": "code",
   "execution_count": 20,
   "id": "c2e40a96",
   "metadata": {},
   "outputs": [
    {
     "data": {
      "text/html": [
       "<div>\n",
       "<style scoped>\n",
       "    .dataframe tbody tr th:only-of-type {\n",
       "        vertical-align: middle;\n",
       "    }\n",
       "\n",
       "    .dataframe tbody tr th {\n",
       "        vertical-align: top;\n",
       "    }\n",
       "\n",
       "    .dataframe thead th {\n",
       "        text-align: right;\n",
       "    }\n",
       "</style>\n",
       "<table border=\"1\" class=\"dataframe\">\n",
       "  <thead>\n",
       "    <tr style=\"text-align: right;\">\n",
       "      <th></th>\n",
       "      <th>Team</th>\n",
       "      <th>Win Percent</th>\n",
       "    </tr>\n",
       "  </thead>\n",
       "  <tbody>\n",
       "    <tr>\n",
       "      <th>0</th>\n",
       "      <td>ANA</td>\n",
       "      <td>0.563928</td>\n",
       "    </tr>\n",
       "    <tr>\n",
       "      <th>1</th>\n",
       "      <td>ARI</td>\n",
       "      <td>0.525958</td>\n",
       "    </tr>\n",
       "    <tr>\n",
       "      <th>2</th>\n",
       "      <td>ATL</td>\n",
       "      <td>0.567634</td>\n",
       "    </tr>\n",
       "    <tr>\n",
       "      <th>3</th>\n",
       "      <td>BAL</td>\n",
       "      <td>0.488257</td>\n",
       "    </tr>\n",
       "    <tr>\n",
       "      <th>4</th>\n",
       "      <td>BOS</td>\n",
       "      <td>0.582818</td>\n",
       "    </tr>\n",
       "    <tr>\n",
       "      <th>5</th>\n",
       "      <td>CHC</td>\n",
       "      <td>0.537037</td>\n",
       "    </tr>\n",
       "    <tr>\n",
       "      <th>6</th>\n",
       "      <td>CHW</td>\n",
       "      <td>0.532716</td>\n",
       "    </tr>\n",
       "    <tr>\n",
       "      <th>7</th>\n",
       "      <td>CIN</td>\n",
       "      <td>0.500617</td>\n",
       "    </tr>\n",
       "    <tr>\n",
       "      <th>8</th>\n",
       "      <td>CLE</td>\n",
       "      <td>0.549165</td>\n",
       "    </tr>\n",
       "    <tr>\n",
       "      <th>9</th>\n",
       "      <td>COL</td>\n",
       "      <td>0.543492</td>\n",
       "    </tr>\n",
       "    <tr>\n",
       "      <th>10</th>\n",
       "      <td>DET</td>\n",
       "      <td>0.506799</td>\n",
       "    </tr>\n",
       "    <tr>\n",
       "      <th>11</th>\n",
       "      <td>FLA</td>\n",
       "      <td>0.508055</td>\n",
       "    </tr>\n",
       "    <tr>\n",
       "      <th>12</th>\n",
       "      <td>HOU</td>\n",
       "      <td>0.541460</td>\n",
       "    </tr>\n",
       "    <tr>\n",
       "      <th>13</th>\n",
       "      <td>KCR</td>\n",
       "      <td>0.473098</td>\n",
       "    </tr>\n",
       "    <tr>\n",
       "      <th>14</th>\n",
       "      <td>LAD</td>\n",
       "      <td>0.587292</td>\n",
       "    </tr>\n",
       "    <tr>\n",
       "      <th>15</th>\n",
       "      <td>MIL</td>\n",
       "      <td>0.527160</td>\n",
       "    </tr>\n",
       "    <tr>\n",
       "      <th>16</th>\n",
       "      <td>MIN</td>\n",
       "      <td>0.537986</td>\n",
       "    </tr>\n",
       "    <tr>\n",
       "      <th>17</th>\n",
       "      <td>NYM</td>\n",
       "      <td>0.520074</td>\n",
       "    </tr>\n",
       "    <tr>\n",
       "      <th>18</th>\n",
       "      <td>NYY</td>\n",
       "      <td>0.625464</td>\n",
       "    </tr>\n",
       "    <tr>\n",
       "      <th>19</th>\n",
       "      <td>OAK</td>\n",
       "      <td>0.578589</td>\n",
       "    </tr>\n",
       "    <tr>\n",
       "      <th>20</th>\n",
       "      <td>PHI</td>\n",
       "      <td>0.537701</td>\n",
       "    </tr>\n",
       "    <tr>\n",
       "      <th>21</th>\n",
       "      <td>PIT</td>\n",
       "      <td>0.507426</td>\n",
       "    </tr>\n",
       "    <tr>\n",
       "      <th>22</th>\n",
       "      <td>SDP</td>\n",
       "      <td>0.499691</td>\n",
       "    </tr>\n",
       "    <tr>\n",
       "      <th>23</th>\n",
       "      <td>SEA</td>\n",
       "      <td>0.520345</td>\n",
       "    </tr>\n",
       "    <tr>\n",
       "      <th>24</th>\n",
       "      <td>SFG</td>\n",
       "      <td>0.556447</td>\n",
       "    </tr>\n",
       "    <tr>\n",
       "      <th>25</th>\n",
       "      <td>STL</td>\n",
       "      <td>0.600617</td>\n",
       "    </tr>\n",
       "    <tr>\n",
       "      <th>26</th>\n",
       "      <td>TBD</td>\n",
       "      <td>0.528173</td>\n",
       "    </tr>\n",
       "    <tr>\n",
       "      <th>27</th>\n",
       "      <td>TEX</td>\n",
       "      <td>0.545623</td>\n",
       "    </tr>\n",
       "    <tr>\n",
       "      <th>28</th>\n",
       "      <td>TOR</td>\n",
       "      <td>0.537940</td>\n",
       "    </tr>\n",
       "    <tr>\n",
       "      <th>29</th>\n",
       "      <td>WSN</td>\n",
       "      <td>0.533704</td>\n",
       "    </tr>\n",
       "  </tbody>\n",
       "</table>\n",
       "</div>"
      ],
      "text/plain": [
       "   Team  Win Percent\n",
       "0   ANA     0.563928\n",
       "1   ARI     0.525958\n",
       "2   ATL     0.567634\n",
       "3   BAL     0.488257\n",
       "4   BOS     0.582818\n",
       "5   CHC     0.537037\n",
       "6   CHW     0.532716\n",
       "7   CIN     0.500617\n",
       "8   CLE     0.549165\n",
       "9   COL     0.543492\n",
       "10  DET     0.506799\n",
       "11  FLA     0.508055\n",
       "12  HOU     0.541460\n",
       "13  KCR     0.473098\n",
       "14  LAD     0.587292\n",
       "15  MIL     0.527160\n",
       "16  MIN     0.537986\n",
       "17  NYM     0.520074\n",
       "18  NYY     0.625464\n",
       "19  OAK     0.578589\n",
       "20  PHI     0.537701\n",
       "21  PIT     0.507426\n",
       "22  SDP     0.499691\n",
       "23  SEA     0.520345\n",
       "24  SFG     0.556447\n",
       "25  STL     0.600617\n",
       "26  TBD     0.528173\n",
       "27  TEX     0.545623\n",
       "28  TOR     0.537940\n",
       "29  WSN     0.533704"
      ]
     },
     "execution_count": 20,
     "metadata": {},
     "output_type": "execute_result"
    }
   ],
   "source": [
    "team_win_pct = {'Team':['ANA', 'ARI', 'ATL', 'BAL', 'BOS', 'CHC', 'CHW', 'CIN', 'CLE', 'COL', \n",
    "                        'DET', 'FLA', 'HOU', 'KCR', 'LAD', 'MIL', 'MIN', 'NYM', 'NYY', 'OAK', \n",
    "                        'PHI', 'PIT', 'SDP', 'SEA', 'SFG', \n",
    "                        'STL', 'TBD', 'TEX', 'TOR', 'WSN'], \n",
    "                'Win Percent':[0.563928, 0.525958, 0.567634, 0.488257, 0.582818, \n",
    "                               0.537037, 0.532716, 0.500617, 0.549165, 0.543492, \n",
    "                              0.506799, 0.508055, 0.541460, 0.473098, 0.587292, \n",
    "                              0.527160, 0.537986, 0.520074, 0.625464, 0.578589, \n",
    "                              0.537701, 0.507426, 0.499691, 0.520345, 0.556447, \n",
    "                              0.600617, 0.528173, 0.545623, 0.537940, 0.533704]}\n",
    "\n",
    "win_pct = pd.DataFrame.from_dict(team_win_pct)\n",
    "win_pct"
   ]
  },
  {
   "cell_type": "code",
   "execution_count": 21,
   "id": "e32bf9fb",
   "metadata": {},
   "outputs": [
    {
     "data": {
      "image/png": "[encoded data removed]",
      "text/plain": [
       "<Figure size 720x504 with 1 Axes>"
      ]
     },
     "metadata": {
      "needs_background": "light"
     },
     "output_type": "display_data"
    }
   ],
   "source": [
    "sns.barplot(x='Team',y='Win Percent', data=win_pct)\n",
    "plt.xticks(rotation=65, fontweight='light')\n",
    "fig = plt.gcf()\n",
    "fig.set_size_inches(10, 7)\n",
    "plt.show()\n",
    "\n",
    "# this bar chart normalizes the win count and shows each teams performance relative to the League"
   ]
  },
  {
   "cell_type": "code",
   "execution_count": null,
   "id": "37d45f46",
   "metadata": {},
   "outputs": [],
   "source": []
  },
  {
   "cell_type": "markdown",
   "id": "3a6da6e9",
   "metadata": {},
   "source": [
    "## Part 3: Forming the Train and Test Sets"
   ]
  },
  {
   "cell_type": "markdown",
   "id": "7e40d580",
   "metadata": {},
   "source": [
    "**The Y variable that we are trying to predict is Home Win.**\n",
    "\n",
    "* **The first test will utilize 'Home Post Elo' as the X.**\n",
    "\n",
    "* **The second test will try 'Starting Pitcher Win %' for the X.**"
   ]
  },
  {
   "cell_type": "code",
   "execution_count": 22,
   "id": "ce7eb789",
   "metadata": {},
   "outputs": [],
   "source": [
    "df_mlb_pitcher = df_mlb"
   ]
  },
  {
   "cell_type": "code",
   "execution_count": 23,
   "id": "5f30130c",
   "metadata": {},
   "outputs": [],
   "source": [
    "x = df_mlb_pitcher['Starting Pitcher Win %']\n",
    "y = df_mlb_pitcher['Home Win']"
   ]
  },
  {
   "cell_type": "code",
   "execution_count": 24,
   "id": "dcd6cbc5",
   "metadata": {},
   "outputs": [],
   "source": [
    "x_train, x_test, y_train, y_test = train_test_split(x, y,\n",
    "                                                    test_size=0.1, random_state=22)"
   ]
  },
  {
   "cell_type": "code",
   "execution_count": 25,
   "id": "cc1d54e8",
   "metadata": {},
   "outputs": [
    {
     "data": {
      "text/plain": [
       "(43701,)"
      ]
     },
     "execution_count": 25,
     "metadata": {},
     "output_type": "execute_result"
    }
   ],
   "source": [
    "x_train.shape"
   ]
  },
  {
   "cell_type": "code",
   "execution_count": 26,
   "id": "e557aef3",
   "metadata": {},
   "outputs": [],
   "source": [
    "x_train = x_train.values.reshape(-1, 1)\n",
    "x_test = x_test.values.reshape(-1, 1)"
   ]
  },
  {
   "cell_type": "code",
   "execution_count": 27,
   "id": "b953e42a",
   "metadata": {},
   "outputs": [
    {
     "data": {
      "text/plain": [
       "(43701, 1)"
      ]
     },
     "execution_count": 27,
     "metadata": {},
     "output_type": "execute_result"
    }
   ],
   "source": [
    "x_train.shape"
   ]
  },
  {
   "cell_type": "code",
   "execution_count": 28,
   "id": "9e8e22b6",
   "metadata": {},
   "outputs": [
    {
     "data": {
      "text/plain": [
       "RandomForestRegressor(max_depth=3, n_estimators=75)"
      ]
     },
     "execution_count": 28,
     "metadata": {},
     "output_type": "execute_result"
    }
   ],
   "source": [
    "pitcher_model = RandomForestRegressor(n_estimators=75, max_depth=3, bootstrap=True)\n",
    "pitcher_model.fit(x_train, y_train)"
   ]
  },
  {
   "cell_type": "code",
   "execution_count": 29,
   "id": "24ed5f55",
   "metadata": {},
   "outputs": [],
   "source": [
    "y_pred = pitcher_model.predict(x_test)"
   ]
  },
  {
   "cell_type": "code",
   "execution_count": 30,
   "id": "e44f3985",
   "metadata": {
    "scrolled": true
   },
   "outputs": [
    {
     "name": "stdout",
     "output_type": "stream",
     "text": [
      "Mean squared error: 0.24420161768606094\n",
      "R-Squared: 0.019745535677916592\n"
     ]
    }
   ],
   "source": [
    "mse = mean_squared_error(y_test, y_pred)\n",
    "print('Mean squared error:', mse)\n",
    "\n",
    "r2 = r2_score(y_test, y_pred)\n",
    "print('R-Squared:', r2)\n"
   ]
  },
  {
   "cell_type": "markdown",
   "id": "b709bfe4",
   "metadata": {},
   "source": [
    "**Results: Mean squared error: 0.24417571151129278 , R-Squared: 0.0198495261580397**"
   ]
  },
  {
   "cell_type": "code",
   "execution_count": 31,
   "id": "7f731556",
   "metadata": {},
   "outputs": [],
   "source": [
    "# Use Random CV to check for the most optimal parameters:"
   ]
  },
  {
   "cell_type": "code",
   "execution_count": 32,
   "id": "17203cc4",
   "metadata": {},
   "outputs": [],
   "source": [
    "param_grid = {\n",
    "    'bootstrap': [True],\n",
    "    'max_depth': [3, 6, 9, 12, 15],\n",
    "    'n_estimators': [10, 25, 50, 75, 100, 200]\n",
    "}"
   ]
  },
  {
   "cell_type": "code",
   "execution_count": 33,
   "id": "69730479",
   "metadata": {},
   "outputs": [],
   "source": [
    "model = RandomForestRegressor()"
   ]
  },
  {
   "cell_type": "code",
   "execution_count": 34,
   "id": "82571feb",
   "metadata": {},
   "outputs": [],
   "source": [
    "model_random = RandomizedSearchCV(estimator = model, param_distributions = param_grid, n_iter = 50, \n",
    "                                  cv = 5, verbose=2, random_state=22, n_jobs = -1)"
   ]
  },
  {
   "cell_type": "code",
   "execution_count": 35,
   "id": "a090e932",
   "metadata": {},
   "outputs": [
    {
     "name": "stdout",
     "output_type": "stream",
     "text": [
      "Fitting 5 folds for each of 30 candidates, totalling 150 fits\n"
     ]
    },
    {
     "name": "stderr",
     "output_type": "stream",
     "text": [
      "C:\\Users\\laura\\anaconda3\\lib\\site-packages\\sklearn\\model_selection\\_search.py:285: UserWarning: The total space of parameters 30 is smaller than n_iter=50. Running 30 iterations. For exhaustive searches, use GridSearchCV.\n",
      "  warnings.warn(\n"
     ]
    },
    {
     "data": {
      "text/plain": [
       "RandomizedSearchCV(cv=5, estimator=RandomForestRegressor(), n_iter=50,\n",
       "                   n_jobs=-1,\n",
       "                   param_distributions={'bootstrap': [True],\n",
       "                                        'max_depth': [3, 6, 9, 12, 15],\n",
       "                                        'n_estimators': [10, 25, 50, 75, 100,\n",
       "                                                         200]},\n",
       "                   random_state=22, verbose=2)"
      ]
     },
     "execution_count": 35,
     "metadata": {},
     "output_type": "execute_result"
    }
   ],
   "source": [
    "model_random.fit(x_train, y_train)"
   ]
  },
  {
   "cell_type": "code",
   "execution_count": 36,
   "id": "c0978d39",
   "metadata": {},
   "outputs": [
    {
     "data": {
      "text/plain": [
       "{'n_estimators': 100, 'max_depth': 3, 'bootstrap': True}"
      ]
     },
     "execution_count": 36,
     "metadata": {},
     "output_type": "execute_result"
    }
   ],
   "source": [
    "model_random.best_params_\n",
    "# based on this result, I will change the above parameters (estimators = 75)"
   ]
  },
  {
   "cell_type": "code",
   "execution_count": null,
   "id": "db823399",
   "metadata": {},
   "outputs": [],
   "source": []
  },
  {
   "cell_type": "markdown",
   "id": "47f4f34e",
   "metadata": {},
   "source": [
    "### Now we will try adding multiple columns to the X variable of the random forest model."
   ]
  },
  {
   "cell_type": "code",
   "execution_count": 37,
   "id": "b599b339",
   "metadata": {},
   "outputs": [],
   "source": [
    "# First, test with 2 variables"
   ]
  },
  {
   "cell_type": "code",
   "execution_count": 38,
   "id": "8e72f183",
   "metadata": {},
   "outputs": [],
   "source": [
    "x2 = df_mlb_pitcher[['Starting Pitcher Win %', 'Starting Pitcher Rating']]\n",
    "y2 = df_mlb_pitcher['Home Win']"
   ]
  },
  {
   "cell_type": "code",
   "execution_count": 39,
   "id": "93a1d7a1",
   "metadata": {},
   "outputs": [],
   "source": [
    "x2_train, x2_test, y2_train, y2_test = train_test_split(x2, y2,\n",
    "                                                    test_size=0.1, random_state=22)"
   ]
  },
  {
   "cell_type": "code",
   "execution_count": 40,
   "id": "ec73ae1a",
   "metadata": {},
   "outputs": [],
   "source": [
    "#x2_train = x2_train.values.reshape(-1, 1)\n",
    "#x2_test = x2_test.values.reshape(-1, 1)"
   ]
  },
  {
   "cell_type": "code",
   "execution_count": 41,
   "id": "ab216e47",
   "metadata": {},
   "outputs": [
    {
     "data": {
      "text/html": [
       "<div>\n",
       "<style scoped>\n",
       "    .dataframe tbody tr th:only-of-type {\n",
       "        vertical-align: middle;\n",
       "    }\n",
       "\n",
       "    .dataframe tbody tr th {\n",
       "        vertical-align: top;\n",
       "    }\n",
       "\n",
       "    .dataframe thead th {\n",
       "        text-align: right;\n",
       "    }\n",
       "</style>\n",
       "<table border=\"1\" class=\"dataframe\">\n",
       "  <thead>\n",
       "    <tr style=\"text-align: right;\">\n",
       "      <th></th>\n",
       "      <th>Starting Pitcher Win %</th>\n",
       "      <th>Starting Pitcher Rating</th>\n",
       "    </tr>\n",
       "  </thead>\n",
       "  <tbody>\n",
       "    <tr>\n",
       "      <th>26250</th>\n",
       "      <td>0.621175</td>\n",
       "      <td>1485.281000</td>\n",
       "    </tr>\n",
       "    <tr>\n",
       "      <th>36384</th>\n",
       "      <td>0.571989</td>\n",
       "      <td>1483.889000</td>\n",
       "    </tr>\n",
       "    <tr>\n",
       "      <th>4036</th>\n",
       "      <td>0.714072</td>\n",
       "      <td>1605.272924</td>\n",
       "    </tr>\n",
       "    <tr>\n",
       "      <th>15363</th>\n",
       "      <td>0.512407</td>\n",
       "      <td>1518.189000</td>\n",
       "    </tr>\n",
       "    <tr>\n",
       "      <th>17357</th>\n",
       "      <td>0.570777</td>\n",
       "      <td>1564.571000</td>\n",
       "    </tr>\n",
       "    <tr>\n",
       "      <th>...</th>\n",
       "      <td>...</td>\n",
       "      <td>...</td>\n",
       "    </tr>\n",
       "    <tr>\n",
       "      <th>24364</th>\n",
       "      <td>0.528740</td>\n",
       "      <td>1524.391000</td>\n",
       "    </tr>\n",
       "    <tr>\n",
       "      <th>26299</th>\n",
       "      <td>0.416522</td>\n",
       "      <td>1443.148000</td>\n",
       "    </tr>\n",
       "    <tr>\n",
       "      <th>33137</th>\n",
       "      <td>0.524039</td>\n",
       "      <td>1490.486000</td>\n",
       "    </tr>\n",
       "    <tr>\n",
       "      <th>30911</th>\n",
       "      <td>0.573796</td>\n",
       "      <td>1462.588000</td>\n",
       "    </tr>\n",
       "    <tr>\n",
       "      <th>45521</th>\n",
       "      <td>0.499973</td>\n",
       "      <td>1593.574000</td>\n",
       "    </tr>\n",
       "  </tbody>\n",
       "</table>\n",
       "<p>43701 rows × 2 columns</p>\n",
       "</div>"
      ],
      "text/plain": [
       "       Starting Pitcher Win %  Starting Pitcher Rating\n",
       "26250                0.621175              1485.281000\n",
       "36384                0.571989              1483.889000\n",
       "4036                 0.714072              1605.272924\n",
       "15363                0.512407              1518.189000\n",
       "17357                0.570777              1564.571000\n",
       "...                       ...                      ...\n",
       "24364                0.528740              1524.391000\n",
       "26299                0.416522              1443.148000\n",
       "33137                0.524039              1490.486000\n",
       "30911                0.573796              1462.588000\n",
       "45521                0.499973              1593.574000\n",
       "\n",
       "[43701 rows x 2 columns]"
      ]
     },
     "execution_count": 41,
     "metadata": {},
     "output_type": "execute_result"
    }
   ],
   "source": [
    "x2_train"
   ]
  },
  {
   "cell_type": "code",
   "execution_count": 42,
   "id": "0218d9c4",
   "metadata": {},
   "outputs": [
    {
     "data": {
      "text/plain": [
       "RandomForestRegressor(max_depth=3, n_estimators=75)"
      ]
     },
     "execution_count": 42,
     "metadata": {},
     "output_type": "execute_result"
    }
   ],
   "source": [
    "pitcher_model2 = RandomForestRegressor(n_estimators=75, max_depth=3, bootstrap=True)\n",
    "pitcher_model2.fit(x2_train, y2_train)"
   ]
  },
  {
   "cell_type": "code",
   "execution_count": 43,
   "id": "39b2de35",
   "metadata": {},
   "outputs": [],
   "source": [
    "y_pred2 = pitcher_model2.predict(x2_test)"
   ]
  },
  {
   "cell_type": "code",
   "execution_count": 44,
   "id": "8bced9b1",
   "metadata": {},
   "outputs": [
    {
     "name": "stdout",
     "output_type": "stream",
     "text": [
      "Mean squared error: 0.24294254125582185\n",
      "R-Squared: 0.02479961887097415\n"
     ]
    }
   ],
   "source": [
    "mse = mean_squared_error(y2_test, y_pred2)\n",
    "print('Mean squared error:', mse)\n",
    "\n",
    "r2 = r2_score(y2_test, y_pred2)\n",
    "print('R-Squared:', r2)"
   ]
  },
  {
   "cell_type": "markdown",
   "id": "0898b374",
   "metadata": {},
   "source": [
    "**results: Mean squared error: 0.2429595092589205 , R-Squared: 0.02473150727963558**"
   ]
  },
  {
   "cell_type": "code",
   "execution_count": null,
   "id": "2b95e6ee",
   "metadata": {},
   "outputs": [],
   "source": []
  },
  {
   "cell_type": "markdown",
   "id": "ffc9c0e2",
   "metadata": {},
   "source": [
    "### Adding more variables:"
   ]
  },
  {
   "cell_type": "code",
   "execution_count": 45,
   "id": "6af8f9a2",
   "metadata": {},
   "outputs": [],
   "source": [
    "# Add columns relevant to Pitchers along with the Home Win %"
   ]
  },
  {
   "cell_type": "code",
   "execution_count": 46,
   "id": "e83f0207",
   "metadata": {},
   "outputs": [],
   "source": [
    "x3 = df_mlb_pitcher[['Starting Pitcher Win %', 'Starting Pitcher Rating', 'Home %', 'Starting Pitcher ADJ']]\n",
    "y3 = df_mlb_pitcher['Home Win']"
   ]
  },
  {
   "cell_type": "code",
   "execution_count": 47,
   "id": "8ac5e6ad",
   "metadata": {},
   "outputs": [],
   "source": [
    "x3_train, x3_test, y3_train, y3_test = train_test_split(x3, y3,\n",
    "                                                    test_size=0.1, random_state=22)"
   ]
  },
  {
   "cell_type": "code",
   "execution_count": 48,
   "id": "f7431c44",
   "metadata": {},
   "outputs": [
    {
     "data": {
      "text/plain": [
       "RandomForestRegressor(max_depth=3, n_estimators=75)"
      ]
     },
     "execution_count": 48,
     "metadata": {},
     "output_type": "execute_result"
    }
   ],
   "source": [
    "pitcher_model = RandomForestRegressor(n_estimators=75, max_depth=3, bootstrap=True)\n",
    "pitcher_model.fit(x3_train, y3_train)"
   ]
  },
  {
   "cell_type": "code",
   "execution_count": 49,
   "id": "a322d567",
   "metadata": {},
   "outputs": [],
   "source": [
    "y_pred = pitcher_model.predict(x3_test)"
   ]
  },
  {
   "cell_type": "code",
   "execution_count": 50,
   "id": "b9442fe7",
   "metadata": {},
   "outputs": [
    {
     "name": "stdout",
     "output_type": "stream",
     "text": [
      "Mean squared error: 0.24285380332723472\n",
      "R-Squared: 0.02515582351644896\n"
     ]
    }
   ],
   "source": [
    "mse = mean_squared_error(y3_test, y_pred)\n",
    "print('Mean squared error:', mse)\n",
    "\n",
    "r2 = r2_score(y3_test, y_pred)\n",
    "print('R-Squared:', r2)"
   ]
  },
  {
   "cell_type": "markdown",
   "id": "1ecd8695",
   "metadata": {},
   "source": [
    "**results: Mean squared error: 0.24284070590743967 , R-Squared: 0.02520839812404929**"
   ]
  },
  {
   "cell_type": "code",
   "execution_count": null,
   "id": "065756b1",
   "metadata": {},
   "outputs": [],
   "source": []
  },
  {
   "cell_type": "markdown",
   "id": "ad4f3b70",
   "metadata": {},
   "source": [
    "## Now, to test the model using Elo:"
   ]
  },
  {
   "cell_type": "code",
   "execution_count": 51,
   "id": "23337638",
   "metadata": {},
   "outputs": [],
   "source": [
    "df_mlb_elo = df_mlb"
   ]
  },
  {
   "cell_type": "code",
   "execution_count": 52,
   "id": "db9b50b9",
   "metadata": {},
   "outputs": [],
   "source": [
    "z = df_mlb_elo['Home Post Elo']\n",
    "y = df_mlb_elo['Home Win']"
   ]
  },
  {
   "cell_type": "code",
   "execution_count": 53,
   "id": "290ad2ea",
   "metadata": {},
   "outputs": [],
   "source": [
    "z_train, z_test, y_train, y_test = train_test_split(df_mlb_elo['Home Post Elo'], df_mlb_elo['Home Win'], \n",
    "                                                        test_size=0.1, random_state=33)"
   ]
  },
  {
   "cell_type": "code",
   "execution_count": 54,
   "id": "ac714c48",
   "metadata": {},
   "outputs": [
    {
     "data": {
      "text/plain": [
       "(43701,)"
      ]
     },
     "execution_count": 54,
     "metadata": {},
     "output_type": "execute_result"
    }
   ],
   "source": [
    "z_train.shape"
   ]
  },
  {
   "cell_type": "code",
   "execution_count": 55,
   "id": "eba8d2a6",
   "metadata": {},
   "outputs": [],
   "source": [
    "z_train = z_train.values.reshape(-1, 1)\n",
    "z_test = z_test.values.reshape(-1, 1)"
   ]
  },
  {
   "cell_type": "code",
   "execution_count": 56,
   "id": "38c29cd7",
   "metadata": {},
   "outputs": [
    {
     "data": {
      "text/plain": [
       "(43701, 1)"
      ]
     },
     "execution_count": 56,
     "metadata": {},
     "output_type": "execute_result"
    }
   ],
   "source": [
    "z_train.shape"
   ]
  },
  {
   "cell_type": "code",
   "execution_count": 57,
   "id": "7f7d75e2",
   "metadata": {},
   "outputs": [
    {
     "data": {
      "text/plain": [
       "RandomForestRegressor(max_depth=3, n_estimators=25)"
      ]
     },
     "execution_count": 57,
     "metadata": {},
     "output_type": "execute_result"
    }
   ],
   "source": [
    "elo_model = RandomForestRegressor(n_estimators=25, max_depth=3, bootstrap=True)\n",
    "elo_model.fit(z_train, y_train)"
   ]
  },
  {
   "cell_type": "code",
   "execution_count": 58,
   "id": "bb463d8c",
   "metadata": {},
   "outputs": [],
   "source": [
    "y_pred = elo_model.predict(z_test)"
   ]
  },
  {
   "cell_type": "code",
   "execution_count": 59,
   "id": "28540af4",
   "metadata": {},
   "outputs": [
    {
     "name": "stdout",
     "output_type": "stream",
     "text": [
      "Mean squared error: 0.24223555740414818\n",
      "R-Squared: 0.02724541747386544\n"
     ]
    }
   ],
   "source": [
    "mse = mean_squared_error(y_test, y_pred)\n",
    "print('Mean squared error:', mse)\n",
    "\n",
    "r2 = r2_score(y_test, y_pred)\n",
    "print('R-Squared:', r2)"
   ]
  },
  {
   "cell_type": "markdown",
   "id": "3d12c115",
   "metadata": {},
   "source": [
    "**results: Mean squared error: 0.24220663663462347 , R-Squared: 0.02736155571296961**"
   ]
  },
  {
   "cell_type": "code",
   "execution_count": 60,
   "id": "7ecde599",
   "metadata": {},
   "outputs": [],
   "source": [
    "# Use Random CV to check for the most optimal parameters:"
   ]
  },
  {
   "cell_type": "code",
   "execution_count": 61,
   "id": "748ee780",
   "metadata": {},
   "outputs": [],
   "source": [
    "param_grid = {\n",
    "    'bootstrap': [True],\n",
    "    'max_depth': [3, 6, 9, 12, 15],\n",
    "    'n_estimators': [10, 25, 50, 75, 100, 200]\n",
    "}"
   ]
  },
  {
   "cell_type": "code",
   "execution_count": 62,
   "id": "6c54a6de",
   "metadata": {},
   "outputs": [],
   "source": [
    "model = RandomForestRegressor()"
   ]
  },
  {
   "cell_type": "code",
   "execution_count": 63,
   "id": "f15afd71",
   "metadata": {},
   "outputs": [],
   "source": [
    "model_random = RandomizedSearchCV(estimator = model, param_distributions = param_grid, n_iter = 50, \n",
    "                                  cv = 5, verbose=2, random_state=33, n_jobs = -1)"
   ]
  },
  {
   "cell_type": "code",
   "execution_count": 64,
   "id": "61821521",
   "metadata": {},
   "outputs": [
    {
     "name": "stdout",
     "output_type": "stream",
     "text": [
      "Fitting 5 folds for each of 30 candidates, totalling 150 fits\n"
     ]
    },
    {
     "name": "stderr",
     "output_type": "stream",
     "text": [
      "C:\\Users\\laura\\anaconda3\\lib\\site-packages\\sklearn\\model_selection\\_search.py:285: UserWarning: The total space of parameters 30 is smaller than n_iter=50. Running 30 iterations. For exhaustive searches, use GridSearchCV.\n",
      "  warnings.warn(\n"
     ]
    },
    {
     "data": {
      "text/plain": [
       "RandomizedSearchCV(cv=5, estimator=RandomForestRegressor(), n_iter=50,\n",
       "                   n_jobs=-1,\n",
       "                   param_distributions={'bootstrap': [True],\n",
       "                                        'max_depth': [3, 6, 9, 12, 15],\n",
       "                                        'n_estimators': [10, 25, 50, 75, 100,\n",
       "                                                         200]},\n",
       "                   random_state=33, verbose=2)"
      ]
     },
     "execution_count": 64,
     "metadata": {},
     "output_type": "execute_result"
    }
   ],
   "source": [
    "model_random.fit(z_train, y_train)"
   ]
  },
  {
   "cell_type": "code",
   "execution_count": 65,
   "id": "3902811c",
   "metadata": {},
   "outputs": [
    {
     "data": {
      "text/plain": [
       "{'n_estimators': 25, 'max_depth': 3, 'bootstrap': True}"
      ]
     },
     "execution_count": 65,
     "metadata": {},
     "output_type": "execute_result"
    }
   ],
   "source": [
    "model_random.best_params_\n",
    "# based on this result, I will change the above parameters (estimators = 25)"
   ]
  },
  {
   "cell_type": "code",
   "execution_count": null,
   "id": "27164bcd",
   "metadata": {},
   "outputs": [],
   "source": []
  },
  {
   "cell_type": "markdown",
   "id": "3dee3ea4",
   "metadata": {},
   "source": [
    "### **Now we will test this Elo version with multiple variables.**"
   ]
  },
  {
   "cell_type": "code",
   "execution_count": 66,
   "id": "e188ddb8",
   "metadata": {},
   "outputs": [],
   "source": [
    "# test with 2 variables:"
   ]
  },
  {
   "cell_type": "code",
   "execution_count": 67,
   "id": "90db1eb0",
   "metadata": {},
   "outputs": [],
   "source": [
    "z2 = df_mlb_elo[['Home Post Elo', 'Home Pre Elo']]\n",
    "y2 = df_mlb_elo['Home Win']"
   ]
  },
  {
   "cell_type": "code",
   "execution_count": 69,
   "id": "8cdccfc9",
   "metadata": {},
   "outputs": [
    {
     "data": {
      "text/plain": [
       "(48557, 2)"
      ]
     },
     "execution_count": 69,
     "metadata": {},
     "output_type": "execute_result"
    }
   ],
   "source": [
    "z2.shape"
   ]
  },
  {
   "cell_type": "code",
   "execution_count": 70,
   "id": "b9b1f511",
   "metadata": {},
   "outputs": [],
   "source": [
    "z2_train, z2_test, y2_train, y2_test = train_test_split(z2, y2, \n",
    "                                                        test_size=0.1, random_state=33)"
   ]
  },
  {
   "cell_type": "code",
   "execution_count": 71,
   "id": "8e34bfb8",
   "metadata": {},
   "outputs": [
    {
     "data": {
      "text/plain": [
       "(43701, 2)"
      ]
     },
     "execution_count": 71,
     "metadata": {},
     "output_type": "execute_result"
    }
   ],
   "source": [
    "z2_train.shape"
   ]
  },
  {
   "cell_type": "code",
   "execution_count": 72,
   "id": "fe3d1ced",
   "metadata": {},
   "outputs": [
    {
     "data": {
      "text/plain": [
       "RandomForestRegressor(max_depth=3, n_estimators=25)"
      ]
     },
     "execution_count": 72,
     "metadata": {},
     "output_type": "execute_result"
    }
   ],
   "source": [
    "elo_model2 = RandomForestRegressor(n_estimators=25, max_depth=3, bootstrap=True)\n",
    "elo_model2.fit(z2_train, y2_train)"
   ]
  },
  {
   "cell_type": "code",
   "execution_count": 73,
   "id": "1ce82ce1",
   "metadata": {},
   "outputs": [],
   "source": [
    "y_pred2 = elo_model2.predict(z2_test)"
   ]
  },
  {
   "cell_type": "code",
   "execution_count": 74,
   "id": "07a4bd18",
   "metadata": {},
   "outputs": [
    {
     "name": "stdout",
     "output_type": "stream",
     "text": [
      "Mean squared error: 0.24223555740414818\n",
      "R-Squared: 0.1404797927076975\n"
     ]
    }
   ],
   "source": [
    "mse = mean_squared_error(y_test, y_pred)\n",
    "print('Mean squared error:', mse)\n",
    "\n",
    "r2 = r2_score(y2_test, y_pred2)\n",
    "print('R-Squared:', r2)"
   ]
  },
  {
   "cell_type": "markdown",
   "id": "bba1c3d3",
   "metadata": {},
   "source": [
    "**Results : Mean squared error: 0.24220663663462347 , R-Squared: 0.1456917406542324**"
   ]
  },
  {
   "cell_type": "code",
   "execution_count": null,
   "id": "6e55b7a1",
   "metadata": {},
   "outputs": [],
   "source": []
  },
  {
   "cell_type": "code",
   "execution_count": 75,
   "id": "759c247e",
   "metadata": {},
   "outputs": [],
   "source": [
    "# adding more variables:"
   ]
  },
  {
   "cell_type": "code",
   "execution_count": 76,
   "id": "e7902045",
   "metadata": {},
   "outputs": [],
   "source": [
    "z3 = df_mlb_elo[['Home Post Elo', 'Home Pre Elo', 'Home %', ]]\n",
    "y3 = df_mlb_elo['Home Win']"
   ]
  },
  {
   "cell_type": "code",
   "execution_count": 77,
   "id": "8da3729d",
   "metadata": {},
   "outputs": [],
   "source": [
    "z3_train, z3_test, y3_train, y3_test = train_test_split(z3, y3, \n",
    "                                                        test_size=0.1, random_state=33)"
   ]
  },
  {
   "cell_type": "code",
   "execution_count": 78,
   "id": "e41c3a15",
   "metadata": {},
   "outputs": [
    {
     "data": {
      "text/plain": [
       "RandomForestRegressor(max_depth=6, n_estimators=11)"
      ]
     },
     "execution_count": 78,
     "metadata": {},
     "output_type": "execute_result"
    }
   ],
   "source": [
    "elo_model3 = RandomForestRegressor(n_estimators=11, max_depth=6, bootstrap=True)\n",
    "elo_model3.fit(z3_train, y3_train)"
   ]
  },
  {
   "cell_type": "code",
   "execution_count": 79,
   "id": "de650ec9",
   "metadata": {},
   "outputs": [],
   "source": [
    "y_pred3 = elo_model3.predict(z3_test)"
   ]
  },
  {
   "cell_type": "code",
   "execution_count": 80,
   "id": "19e1dd3c",
   "metadata": {},
   "outputs": [
    {
     "name": "stdout",
     "output_type": "stream",
     "text": [
      "Mean squared error: 0.24223555740414818\n",
      "R-Squared: 0.27216019401711233\n"
     ]
    }
   ],
   "source": [
    "mse = mean_squared_error(y_test, y_pred)\n",
    "print('Mean squared error:', mse)\n",
    "\n",
    "r2 = r2_score(y3_test, y_pred3)\n",
    "print('R-Squared:', r2)"
   ]
  },
  {
   "cell_type": "markdown",
   "id": "70d4a938",
   "metadata": {},
   "source": [
    "* **original results: Mean squared error: 0.24220663663462347 , R-Squared: 0.14746807390713634**\n",
    "* **results after tuning: Mean squared error: 0.21625632679280196 , R-Squared: 0.31131032024785277**"
   ]
  },
  {
   "cell_type": "markdown",
   "id": "2478347a",
   "metadata": {},
   "source": [
    "* ok... so, increasing max_depth to drastically large #s continues to improve the results. I.e; depth of 55 (which is the best, we found) gives r2 of 0.9655\n",
    "* we decided on a max_depth of 6, and then played around with the number of trees to find the best result\n",
    "* 11 trees yields the highest R^2 !"
   ]
  },
  {
   "cell_type": "code",
   "execution_count": null,
   "id": "05715d26",
   "metadata": {},
   "outputs": [],
   "source": []
  },
  {
   "cell_type": "code",
   "execution_count": null,
   "id": "964319e1",
   "metadata": {},
   "outputs": [],
   "source": []
  },
  {
   "cell_type": "markdown",
   "id": "2852edcb",
   "metadata": {},
   "source": [
    "**Given that adding pitcher data didn't improve the model, we are going to tune parameters for this instance of the model**"
   ]
  },
  {
   "cell_type": "code",
   "execution_count": 81,
   "id": "0dcccee1",
   "metadata": {},
   "outputs": [],
   "source": [
    "param_grid = {\n",
    "    'bootstrap': [True],\n",
    "    'max_depth': [2, 3, 6, 9, 12, 15],\n",
    "    'n_estimators': [10, 25, 50, 75, 100, 200]\n",
    "}"
   ]
  },
  {
   "cell_type": "code",
   "execution_count": 82,
   "id": "673c8457",
   "metadata": {},
   "outputs": [],
   "source": [
    "model = RandomForestRegressor()"
   ]
  },
  {
   "cell_type": "code",
   "execution_count": 83,
   "id": "af78d4a8",
   "metadata": {},
   "outputs": [],
   "source": [
    "model_random = RandomizedSearchCV(estimator = model, param_distributions = param_grid, n_iter = 50, \n",
    "                                  cv = 5, verbose=2, random_state=33, n_jobs = -1)"
   ]
  },
  {
   "cell_type": "code",
   "execution_count": 84,
   "id": "cec87082",
   "metadata": {},
   "outputs": [
    {
     "name": "stdout",
     "output_type": "stream",
     "text": [
      "Fitting 5 folds for each of 36 candidates, totalling 180 fits\n"
     ]
    },
    {
     "name": "stderr",
     "output_type": "stream",
     "text": [
      "C:\\Users\\laura\\anaconda3\\lib\\site-packages\\sklearn\\model_selection\\_search.py:285: UserWarning: The total space of parameters 36 is smaller than n_iter=50. Running 36 iterations. For exhaustive searches, use GridSearchCV.\n",
      "  warnings.warn(\n"
     ]
    },
    {
     "data": {
      "text/plain": [
       "RandomizedSearchCV(cv=5, estimator=RandomForestRegressor(), n_iter=50,\n",
       "                   n_jobs=-1,\n",
       "                   param_distributions={'bootstrap': [True],\n",
       "                                        'max_depth': [2, 3, 6, 9, 12, 15],\n",
       "                                        'n_estimators': [10, 25, 50, 75, 100,\n",
       "                                                         200]},\n",
       "                   random_state=33, verbose=2)"
      ]
     },
     "execution_count": 84,
     "metadata": {},
     "output_type": "execute_result"
    }
   ],
   "source": [
    "model_random.fit(z_train, y_train)"
   ]
  },
  {
   "cell_type": "code",
   "execution_count": 85,
   "id": "9b6fdf40",
   "metadata": {},
   "outputs": [
    {
     "data": {
      "text/plain": [
       "{'n_estimators': 200, 'max_depth': 3, 'bootstrap': True}"
      ]
     },
     "execution_count": 85,
     "metadata": {},
     "output_type": "execute_result"
    }
   ],
   "source": [
    "model_random.best_params_"
   ]
  },
  {
   "cell_type": "markdown",
   "id": "23baeddf",
   "metadata": {},
   "source": [
    "The Random CV is saying that 50 estimators is better than 25, but we have tested it multiple times, and that is false.\n",
    "From what we can tell, est=25 and depth=3 is our best bet (yet)."
   ]
  },
  {
   "cell_type": "markdown",
   "id": "a9052afe",
   "metadata": {},
   "source": [
    "## Making a New Model: Elo + Pitcher"
   ]
  },
  {
   "cell_type": "code",
   "execution_count": 86,
   "id": "77bd7ce7",
   "metadata": {},
   "outputs": [],
   "source": [
    "# since the 4-variable test on Pitcher model didn't really improve over the 2-variable test,\n",
    "# we will test the best-performing Elo model with the addition of 'Starting Pitcher Win %', 'Starting Pitcher Rating'"
   ]
  },
  {
   "cell_type": "code",
   "execution_count": 87,
   "id": "b4f14d8a",
   "metadata": {},
   "outputs": [],
   "source": [
    "xx = df_mlb[['Home Post Elo', 'Home Pre Elo', 'Home %', 'Starting Pitcher Win %', 'Starting Pitcher Rating']]\n",
    "yy = df_mlb['Home Win']"
   ]
  },
  {
   "cell_type": "code",
   "execution_count": 88,
   "id": "7073dcbc",
   "metadata": {},
   "outputs": [],
   "source": [
    "xx_train, xx_test, yy_train, yy_test = train_test_split(xx, yy, \n",
    "                                                        test_size=0.1, random_state=33)"
   ]
  },
  {
   "cell_type": "code",
   "execution_count": 89,
   "id": "0f6b2e7b",
   "metadata": {},
   "outputs": [
    {
     "data": {
      "text/plain": [
       "(43701, 5)"
      ]
     },
     "execution_count": 89,
     "metadata": {},
     "output_type": "execute_result"
    }
   ],
   "source": [
    "xx_train.shape"
   ]
  },
  {
   "cell_type": "code",
   "execution_count": 193,
   "id": "8e706df1",
   "metadata": {},
   "outputs": [
    {
     "data": {
      "text/plain": [
       "RandomForestRegressor(max_depth=6, n_estimators=29)"
      ]
     },
     "execution_count": 193,
     "metadata": {},
     "output_type": "execute_result"
    }
   ],
   "source": [
    "model = RandomForestRegressor(n_estimators=29, max_depth=6, bootstrap=True)\n",
    "model.fit(xx_train, yy_train)"
   ]
  },
  {
   "cell_type": "code",
   "execution_count": 194,
   "id": "db6ed775",
   "metadata": {},
   "outputs": [],
   "source": [
    "y_pred = model.predict(xx_test)"
   ]
  },
  {
   "cell_type": "code",
   "execution_count": 195,
   "id": "58fc1176",
   "metadata": {},
   "outputs": [
    {
     "name": "stdout",
     "output_type": "stream",
     "text": [
      "Mean squared error: 0.17246994727099577\n",
      "R-Squared: 0.3074058434947631\n"
     ]
    }
   ],
   "source": [
    "mse = mean_squared_error(yy_test, y_pred)\n",
    "print('Mean squared error:', mse)\n",
    "\n",
    "r2 = r2_score(yy_test, y_pred)\n",
    "print('R-Squared:', r2)"
   ]
  },
  {
   "cell_type": "markdown",
   "id": "844e6fe5",
   "metadata": {},
   "source": [
    "* **Original Result: Mean squared error: 0.21625632679280196 , R-Squared: 0.13157120638159037**\n",
    "\n",
    "* **Note that adding Pitcher data made the model worse, initially.**\n",
    "\n",
    "* **After playing with the max_depth and n_estimators, the results are Mean squared error: 0.17060118259134044 , R-Squared: 0.3149103132153862. Keeping depth at 6 (to be congruent with the previous model's decision), 29 trees provides the most optimal R-squared.**"
   ]
  },
  {
   "cell_type": "code",
   "execution_count": 118,
   "id": "6214aa41",
   "metadata": {},
   "outputs": [],
   "source": [
    "param_grid = {\n",
    "    'bootstrap': [True],\n",
    "    'max_depth': [2, 3, 4, 5, 6, 7, 9, 12, 15],\n",
    "    'n_estimators': [25, 40, 45, 50, 55, 60, 75]\n",
    "}"
   ]
  },
  {
   "cell_type": "code",
   "execution_count": 119,
   "id": "5d516627",
   "metadata": {},
   "outputs": [],
   "source": [
    "model = RandomForestRegressor()"
   ]
  },
  {
   "cell_type": "code",
   "execution_count": 120,
   "id": "fa6a42fa",
   "metadata": {},
   "outputs": [],
   "source": [
    "model_random = RandomizedSearchCV(estimator = model, param_distributions = param_grid, n_iter = 50, \n",
    "                                  cv = 5, verbose=2, random_state=33, n_jobs = -1)"
   ]
  },
  {
   "cell_type": "code",
   "execution_count": 121,
   "id": "5a5dd4e6",
   "metadata": {},
   "outputs": [
    {
     "name": "stdout",
     "output_type": "stream",
     "text": [
      "Fitting 5 folds for each of 50 candidates, totalling 250 fits\n"
     ]
    },
    {
     "data": {
      "text/plain": [
       "RandomizedSearchCV(cv=5, estimator=RandomForestRegressor(), n_iter=50,\n",
       "                   n_jobs=-1,\n",
       "                   param_distributions={'bootstrap': [True],\n",
       "                                        'max_depth': [2, 3, 4, 5, 6, 7, 9, 12,\n",
       "                                                      15],\n",
       "                                        'n_estimators': [25, 40, 45, 50, 55, 60,\n",
       "                                                         75]},\n",
       "                   random_state=33, verbose=2)"
      ]
     },
     "execution_count": 121,
     "metadata": {},
     "output_type": "execute_result"
    }
   ],
   "source": [
    "model_random.fit(z_train, y_train)"
   ]
  },
  {
   "cell_type": "code",
   "execution_count": 122,
   "id": "273c3dc3",
   "metadata": {},
   "outputs": [
    {
     "data": {
      "text/plain": [
       "{'n_estimators': 60, 'max_depth': 3, 'bootstrap': True}"
      ]
     },
     "execution_count": 122,
     "metadata": {},
     "output_type": "execute_result"
    }
   ],
   "source": [
    "model_random.best_params_"
   ]
  },
  {
   "cell_type": "markdown",
   "id": "f12077bc",
   "metadata": {},
   "source": [
    "**Originally, Random CV recommended 50 estimators. When we tried to hone in on that number by adding more options, the Search gave extraneous answers that do not make sense. I will use ~50 as a guide, and manually change the parameters.**"
   ]
  },
  {
   "cell_type": "code",
   "execution_count": null,
   "id": "b5890f51",
   "metadata": {},
   "outputs": [],
   "source": []
  }
 ],
 "metadata": {
  "kernelspec": {
   "display_name": "Python 3",
   "language": "python",
   "name": "python3"
  },
  "language_info": {
   "codemirror_mode": {
    "name": "ipython",
    "version": 3
   },
   "file_extension": ".py",
   "mimetype": "text/x-python",
   "name": "python",
   "nbconvert_exporter": "python",
   "pygments_lexer": "ipython3",
   "version": "3.8.8"
  }
 },
 "nbformat": 4,
 "nbformat_minor": 5
}
